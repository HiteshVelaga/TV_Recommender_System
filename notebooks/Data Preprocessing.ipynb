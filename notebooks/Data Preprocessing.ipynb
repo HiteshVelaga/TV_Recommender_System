{
 "cells": [
  {
   "cell_type": "code",
   "execution_count": 3,
   "metadata": {},
   "outputs": [],
   "source": [
    "import pandas as pd\n",
    "import matplotlib.pyplot as plt\n",
    "import numpy as np\n",
    "import os"
   ]
  },
  {
   "cell_type": "code",
   "execution_count": 5,
   "metadata": {},
   "outputs": [],
   "source": [
    "dataset = pd.read_csv(os.path.join('..', 'data', 'TV-2.csv'))"
   ]
  },
  {
   "cell_type": "code",
   "execution_count": 6,
   "metadata": {},
   "outputs": [
    {
     "data": {
      "text/html": [
       "<div>\n",
       "<style scoped>\n",
       "    .dataframe tbody tr th:only-of-type {\n",
       "        vertical-align: middle;\n",
       "    }\n",
       "\n",
       "    .dataframe tbody tr th {\n",
       "        vertical-align: top;\n",
       "    }\n",
       "\n",
       "    .dataframe thead th {\n",
       "        text-align: right;\n",
       "    }\n",
       "</style>\n",
       "<table border=\"1\" class=\"dataframe\">\n",
       "  <thead>\n",
       "    <tr style=\"text-align: right;\">\n",
       "      <th></th>\n",
       "      <th>Brand</th>\n",
       "      <th>Ratings</th>\n",
       "      <th>Speaker</th>\n",
       "      <th>Size</th>\n",
       "      <th>HD</th>\n",
       "      <th>HDMI</th>\n",
       "      <th>USB</th>\n",
       "      <th>Cost</th>\n",
       "      <th>Buy From</th>\n",
       "      <th>Img Url</th>\n",
       "    </tr>\n",
       "  </thead>\n",
       "  <tbody>\n",
       "    <tr>\n",
       "      <th>0</th>\n",
       "      <td>Mi</td>\n",
       "      <td>4.4</td>\n",
       "      <td>20</td>\n",
       "      <td>32</td>\n",
       "      <td>HD</td>\n",
       "      <td>3</td>\n",
       "      <td>2</td>\n",
       "      <td>14499</td>\n",
       "      <td>https://www.flipkart.com/mi-4a-pro-80-cm-32-in...</td>\n",
       "      <td>https://rukminim1.flixcart.com/image/832/832/k...</td>\n",
       "    </tr>\n",
       "    <tr>\n",
       "      <th>1</th>\n",
       "      <td>Mi</td>\n",
       "      <td>4.4</td>\n",
       "      <td>20</td>\n",
       "      <td>43</td>\n",
       "      <td>Ultra HD 4K</td>\n",
       "      <td>3</td>\n",
       "      <td>2</td>\n",
       "      <td>27999</td>\n",
       "      <td>https://www.flipkart.com/mi-4x-108-cm-43-inch-...</td>\n",
       "      <td>https://rukminim1.flixcart.com/image/832/832/k...</td>\n",
       "    </tr>\n",
       "    <tr>\n",
       "      <th>2</th>\n",
       "      <td>Mi</td>\n",
       "      <td>4.4</td>\n",
       "      <td>20</td>\n",
       "      <td>50</td>\n",
       "      <td>Ultra HD 4K</td>\n",
       "      <td>3</td>\n",
       "      <td>2</td>\n",
       "      <td>33999</td>\n",
       "      <td>https://www.flipkart.com/mi-4x-125-7-cm-50-inc...</td>\n",
       "      <td>https://rukminim1.flixcart.com/image/832/832/k...</td>\n",
       "    </tr>\n",
       "    <tr>\n",
       "      <th>3</th>\n",
       "      <td>Mi</td>\n",
       "      <td>4.1</td>\n",
       "      <td>20</td>\n",
       "      <td>32</td>\n",
       "      <td>HD</td>\n",
       "      <td>3</td>\n",
       "      <td>2</td>\n",
       "      <td>15499</td>\n",
       "      <td>https://www.flipkart.com/mi-4a-horizon-80-cm-3...</td>\n",
       "      <td>https://rukminim1.flixcart.com/image/832/832/k...</td>\n",
       "    </tr>\n",
       "    <tr>\n",
       "      <th>4</th>\n",
       "      <td>Mi</td>\n",
       "      <td>4.4</td>\n",
       "      <td>20</td>\n",
       "      <td>40</td>\n",
       "      <td>Full HD</td>\n",
       "      <td>3</td>\n",
       "      <td>2</td>\n",
       "      <td>21999</td>\n",
       "      <td>https://www.flipkart.com/mi-4a-100-cm-40-inch-...</td>\n",
       "      <td>https://rukminim1.flixcart.com/image/832/832/k...</td>\n",
       "    </tr>\n",
       "    <tr>\n",
       "      <th>...</th>\n",
       "      <td>...</td>\n",
       "      <td>...</td>\n",
       "      <td>...</td>\n",
       "      <td>...</td>\n",
       "      <td>...</td>\n",
       "      <td>...</td>\n",
       "      <td>...</td>\n",
       "      <td>...</td>\n",
       "      <td>...</td>\n",
       "      <td>...</td>\n",
       "    </tr>\n",
       "    <tr>\n",
       "      <th>808</th>\n",
       "      <td>LG</td>\n",
       "      <td>4.9</td>\n",
       "      <td>20</td>\n",
       "      <td>42</td>\n",
       "      <td>Full HD</td>\n",
       "      <td>1</td>\n",
       "      <td>1</td>\n",
       "      <td>87000</td>\n",
       "      <td>https://www.flipkart.com/lg-42-inch-full-hd-le...</td>\n",
       "      <td>https://rukminim1.flixcart.com/image/832/832/t...</td>\n",
       "    </tr>\n",
       "    <tr>\n",
       "      <th>809</th>\n",
       "      <td>LG</td>\n",
       "      <td>4.6</td>\n",
       "      <td>20</td>\n",
       "      <td>42</td>\n",
       "      <td>Full HD</td>\n",
       "      <td>3</td>\n",
       "      <td>1</td>\n",
       "      <td>62990</td>\n",
       "      <td>https://www.flipkart.com/lg-42-inches-full-hd-...</td>\n",
       "      <td>https://rukminim1.flixcart.com/image/832/832/t...</td>\n",
       "    </tr>\n",
       "    <tr>\n",
       "      <th>810</th>\n",
       "      <td>SONY</td>\n",
       "      <td>4.0</td>\n",
       "      <td>90</td>\n",
       "      <td>55</td>\n",
       "      <td>Ultra HD 4K</td>\n",
       "      <td>4</td>\n",
       "      <td>3</td>\n",
       "      <td>144999</td>\n",
       "      <td>https://www.flipkart.com/sony-138-8-cm-55-inch...</td>\n",
       "      <td>https://rukminim1.flixcart.com/image/832/832/t...</td>\n",
       "    </tr>\n",
       "    <tr>\n",
       "      <th>811</th>\n",
       "      <td>MarQ</td>\n",
       "      <td>4.2</td>\n",
       "      <td>16</td>\n",
       "      <td>32</td>\n",
       "      <td>HD</td>\n",
       "      <td>2</td>\n",
       "      <td>2</td>\n",
       "      <td>8499</td>\n",
       "      <td>https://www.flipkart.com/marq-flipkart-innovie...</td>\n",
       "      <td>https://rukminim1.flixcart.com/image/832/832/k...</td>\n",
       "    </tr>\n",
       "    <tr>\n",
       "      <th>812</th>\n",
       "      <td>SAMSUNG</td>\n",
       "      <td>4.4</td>\n",
       "      <td>20</td>\n",
       "      <td>32</td>\n",
       "      <td>Full HD</td>\n",
       "      <td>0</td>\n",
       "      <td>1</td>\n",
       "      <td>41900</td>\n",
       "      <td>https://www.flipkart.com/samsung-32-inch-full-...</td>\n",
       "      <td>https://rukminim1.flixcart.com/image/832/832/t...</td>\n",
       "    </tr>\n",
       "  </tbody>\n",
       "</table>\n",
       "<p>813 rows × 10 columns</p>\n",
       "</div>"
      ],
      "text/plain": [
       "       Brand  Ratings  Speaker  Size           HD  HDMI  USB    Cost  \\\n",
       "0         Mi      4.4       20    32           HD     3    2   14499   \n",
       "1         Mi      4.4       20    43  Ultra HD 4K     3    2   27999   \n",
       "2         Mi      4.4       20    50  Ultra HD 4K     3    2   33999   \n",
       "3         Mi      4.1       20    32           HD     3    2   15499   \n",
       "4         Mi      4.4       20    40      Full HD     3    2   21999   \n",
       "..       ...      ...      ...   ...          ...   ...  ...     ...   \n",
       "808       LG      4.9       20    42      Full HD     1    1   87000   \n",
       "809       LG      4.6       20    42      Full HD     3    1   62990   \n",
       "810     SONY      4.0       90    55  Ultra HD 4K     4    3  144999   \n",
       "811     MarQ      4.2       16    32           HD     2    2    8499   \n",
       "812  SAMSUNG      4.4       20    32      Full HD     0    1   41900   \n",
       "\n",
       "                                              Buy From  \\\n",
       "0    https://www.flipkart.com/mi-4a-pro-80-cm-32-in...   \n",
       "1    https://www.flipkart.com/mi-4x-108-cm-43-inch-...   \n",
       "2    https://www.flipkart.com/mi-4x-125-7-cm-50-inc...   \n",
       "3    https://www.flipkart.com/mi-4a-horizon-80-cm-3...   \n",
       "4    https://www.flipkart.com/mi-4a-100-cm-40-inch-...   \n",
       "..                                                 ...   \n",
       "808  https://www.flipkart.com/lg-42-inch-full-hd-le...   \n",
       "809  https://www.flipkart.com/lg-42-inches-full-hd-...   \n",
       "810  https://www.flipkart.com/sony-138-8-cm-55-inch...   \n",
       "811  https://www.flipkart.com/marq-flipkart-innovie...   \n",
       "812  https://www.flipkart.com/samsung-32-inch-full-...   \n",
       "\n",
       "                                               Img Url  \n",
       "0    https://rukminim1.flixcart.com/image/832/832/k...  \n",
       "1    https://rukminim1.flixcart.com/image/832/832/k...  \n",
       "2    https://rukminim1.flixcart.com/image/832/832/k...  \n",
       "3    https://rukminim1.flixcart.com/image/832/832/k...  \n",
       "4    https://rukminim1.flixcart.com/image/832/832/k...  \n",
       "..                                                 ...  \n",
       "808  https://rukminim1.flixcart.com/image/832/832/t...  \n",
       "809  https://rukminim1.flixcart.com/image/832/832/t...  \n",
       "810  https://rukminim1.flixcart.com/image/832/832/t...  \n",
       "811  https://rukminim1.flixcart.com/image/832/832/k...  \n",
       "812  https://rukminim1.flixcart.com/image/832/832/t...  \n",
       "\n",
       "[813 rows x 10 columns]"
      ]
     },
     "execution_count": 6,
     "metadata": {},
     "output_type": "execute_result"
    }
   ],
   "source": [
    "dataset"
   ]
  },
  {
   "cell_type": "code",
   "execution_count": 7,
   "metadata": {},
   "outputs": [
    {
     "data": {
      "text/html": [
       "<div>\n",
       "<style scoped>\n",
       "    .dataframe tbody tr th:only-of-type {\n",
       "        vertical-align: middle;\n",
       "    }\n",
       "\n",
       "    .dataframe tbody tr th {\n",
       "        vertical-align: top;\n",
       "    }\n",
       "\n",
       "    .dataframe thead th {\n",
       "        text-align: right;\n",
       "    }\n",
       "</style>\n",
       "<table border=\"1\" class=\"dataframe\">\n",
       "  <thead>\n",
       "    <tr style=\"text-align: right;\">\n",
       "      <th></th>\n",
       "      <th>Ratings</th>\n",
       "      <th>Speaker</th>\n",
       "      <th>Size</th>\n",
       "      <th>HDMI</th>\n",
       "      <th>USB</th>\n",
       "      <th>Cost</th>\n",
       "    </tr>\n",
       "  </thead>\n",
       "  <tbody>\n",
       "    <tr>\n",
       "      <th>count</th>\n",
       "      <td>813.000000</td>\n",
       "      <td>813.000000</td>\n",
       "      <td>813.000000</td>\n",
       "      <td>813.000000</td>\n",
       "      <td>813.000000</td>\n",
       "      <td>813.000000</td>\n",
       "    </tr>\n",
       "    <tr>\n",
       "      <th>mean</th>\n",
       "      <td>4.294711</td>\n",
       "      <td>22.097171</td>\n",
       "      <td>45.057811</td>\n",
       "      <td>2.563346</td>\n",
       "      <td>1.892989</td>\n",
       "      <td>58141.145141</td>\n",
       "    </tr>\n",
       "    <tr>\n",
       "      <th>std</th>\n",
       "      <td>0.358718</td>\n",
       "      <td>10.242943</td>\n",
       "      <td>11.603055</td>\n",
       "      <td>0.986353</td>\n",
       "      <td>0.595229</td>\n",
       "      <td>57332.091617</td>\n",
       "    </tr>\n",
       "    <tr>\n",
       "      <th>min</th>\n",
       "      <td>1.800000</td>\n",
       "      <td>0.000000</td>\n",
       "      <td>5.000000</td>\n",
       "      <td>0.000000</td>\n",
       "      <td>0.000000</td>\n",
       "      <td>5999.000000</td>\n",
       "    </tr>\n",
       "    <tr>\n",
       "      <th>25%</th>\n",
       "      <td>4.100000</td>\n",
       "      <td>20.000000</td>\n",
       "      <td>37.000000</td>\n",
       "      <td>2.000000</td>\n",
       "      <td>2.000000</td>\n",
       "      <td>22999.000000</td>\n",
       "    </tr>\n",
       "    <tr>\n",
       "      <th>50%</th>\n",
       "      <td>4.300000</td>\n",
       "      <td>20.000000</td>\n",
       "      <td>43.000000</td>\n",
       "      <td>3.000000</td>\n",
       "      <td>2.000000</td>\n",
       "      <td>39990.000000</td>\n",
       "    </tr>\n",
       "    <tr>\n",
       "      <th>75%</th>\n",
       "      <td>4.500000</td>\n",
       "      <td>24.000000</td>\n",
       "      <td>55.000000</td>\n",
       "      <td>3.000000</td>\n",
       "      <td>2.000000</td>\n",
       "      <td>69990.000000</td>\n",
       "    </tr>\n",
       "    <tr>\n",
       "      <th>max</th>\n",
       "      <td>5.000000</td>\n",
       "      <td>98.000000</td>\n",
       "      <td>85.000000</td>\n",
       "      <td>4.000000</td>\n",
       "      <td>3.000000</td>\n",
       "      <td>469999.000000</td>\n",
       "    </tr>\n",
       "  </tbody>\n",
       "</table>\n",
       "</div>"
      ],
      "text/plain": [
       "          Ratings     Speaker        Size        HDMI         USB  \\\n",
       "count  813.000000  813.000000  813.000000  813.000000  813.000000   \n",
       "mean     4.294711   22.097171   45.057811    2.563346    1.892989   \n",
       "std      0.358718   10.242943   11.603055    0.986353    0.595229   \n",
       "min      1.800000    0.000000    5.000000    0.000000    0.000000   \n",
       "25%      4.100000   20.000000   37.000000    2.000000    2.000000   \n",
       "50%      4.300000   20.000000   43.000000    3.000000    2.000000   \n",
       "75%      4.500000   24.000000   55.000000    3.000000    2.000000   \n",
       "max      5.000000   98.000000   85.000000    4.000000    3.000000   \n",
       "\n",
       "                Cost  \n",
       "count     813.000000  \n",
       "mean    58141.145141  \n",
       "std     57332.091617  \n",
       "min      5999.000000  \n",
       "25%     22999.000000  \n",
       "50%     39990.000000  \n",
       "75%     69990.000000  \n",
       "max    469999.000000  "
      ]
     },
     "execution_count": 7,
     "metadata": {},
     "output_type": "execute_result"
    }
   ],
   "source": [
    "dataset.describe()"
   ]
  },
  {
   "cell_type": "code",
   "execution_count": 36,
   "metadata": {},
   "outputs": [
    {
     "data": {
      "text/plain": [
       "(array([135., 147., 138.,  90.,  59.,  57.,  40.,  30.,  27.,  13.,   9.,\n",
       "          9.,  10.,   9.,   8.,   7.,   2.,   1.,   1.,   1.,   2.,   5.,\n",
       "          1.,   2.,   2.,   0.,   0.,   2.,   1.,   1.,   1.,   0.,   0.,\n",
       "          1.,   0.,   0.,   0.,   1.,   0.,   1.]),\n",
       " array([  5999.,  17599.,  29199.,  40799.,  52399.,  63999.,  75599.,\n",
       "         87199.,  98799., 110399., 121999., 133599., 145199., 156799.,\n",
       "        168399., 179999., 191599., 203199., 214799., 226399., 237999.,\n",
       "        249599., 261199., 272799., 284399., 295999., 307599., 319199.,\n",
       "        330799., 342399., 353999., 365599., 377199., 388799., 400399.,\n",
       "        411999., 423599., 435199., 446799., 458399., 469999.]),\n",
       " <BarContainer object of 40 artists>)"
      ]
     },
     "execution_count": 36,
     "metadata": {},
     "output_type": "execute_result"
    },
    {
     "data": {
      "image/png": "[encoded data removed]",
      "text/plain": [
       "<Figure size 432x288 with 1 Axes>"
      ]
     },
     "metadata": {
      "needs_background": "light"
     },
     "output_type": "display_data"
    }
   ],
   "source": [
    "plt.hist(dataset['Cost'], bins = 40)\n"
   ]
  },
  {
   "cell_type": "code",
   "execution_count": 9,
   "metadata": {},
   "outputs": [
    {
     "data": {
      "text/plain": [
       "55"
      ]
     },
     "execution_count": 9,
     "metadata": {},
     "output_type": "execute_result"
    }
   ],
   "source": [
    "len(dataset[\"Brand\"].unique())"
   ]
  },
  {
   "cell_type": "code",
   "execution_count": 10,
   "metadata": {},
   "outputs": [
    {
     "data": {
      "text/plain": [
       "array(['Mi', 'realme', 'LG', 'SAMSUNG', 'Vu', 'OnePlus', 'iFFALCON',\n",
       "       'Thomson', 'SONY', 'infinix', 'PHILIPS', 'MOTOROLA', 'Hisense',\n",
       "       'Compaq', 'Panasonic', 'Nokia', 'TCL', 'TOSHIBA', 'KODAK',\n",
       "       'Coocaa', 'Sansui', 'Iffalcon', 'Haier', 'Micromax', 'HUIDI',\n",
       "       'IMPEX', 'MarQ', 'Adsun', 'Lloyd', 'CloudWalker', 'ONIDA',\n",
       "       'Infocus', 'Weston', 'Sanyo', 'SVL', 'JVC', 'IGO', 'Blaupunkt',\n",
       "       'Intex', 'Noble', 'NOBLE', 'Akai', 'T-Series', 'POLAROID', 'Sharp',\n",
       "       'Onix', 'BPL', 'RGL', 'DETEL', 'Daiwa', 'Samsung', 'Hitachi',\n",
       "       'G-TEN', 'Croma', 'Sony'], dtype=object)"
      ]
     },
     "execution_count": 10,
     "metadata": {},
     "output_type": "execute_result"
    }
   ],
   "source": [
    "dataset[\"Brand\"].unique()"
   ]
  },
  {
   "cell_type": "code",
   "execution_count": 11,
   "metadata": {},
   "outputs": [],
   "source": [
    "data=dataset"
   ]
  },
  {
   "cell_type": "code",
   "execution_count": 12,
   "metadata": {},
   "outputs": [],
   "source": [
    "data[\"Brand\"]=data[\"Brand\"].str.lower()"
   ]
  },
  {
   "cell_type": "code",
   "execution_count": 13,
   "metadata": {},
   "outputs": [
    {
     "data": {
      "text/plain": [
       "51"
      ]
     },
     "execution_count": 13,
     "metadata": {},
     "output_type": "execute_result"
    }
   ],
   "source": [
    "len(data[\"Brand\"].unique())"
   ]
  },
  {
   "cell_type": "code",
   "execution_count": 14,
   "metadata": {},
   "outputs": [
    {
     "data": {
      "text/plain": [
       "Brand\n",
       "adsun           True\n",
       "akai           False\n",
       "blaupunkt       True\n",
       "bpl            False\n",
       "cloudwalker     True\n",
       "compaq         False\n",
       "coocaa          True\n",
       "croma          False\n",
       "daiwa          False\n",
       "detel          False\n",
       "g-ten          False\n",
       "haier           True\n",
       "hisense         True\n",
       "hitachi        False\n",
       "huidi          False\n",
       "iffalcon        True\n",
       "igo            False\n",
       "impex          False\n",
       "infinix        False\n",
       "infocus        False\n",
       "intex          False\n",
       "jvc            False\n",
       "kodak           True\n",
       "lg              True\n",
       "lloyd           True\n",
       "marq           False\n",
       "mi              True\n",
       "micromax        True\n",
       "motorola        True\n",
       "noble           True\n",
       "nokia           True\n",
       "oneplus         True\n",
       "onida           True\n",
       "onix           False\n",
       "panasonic       True\n",
       "philips         True\n",
       "polaroid       False\n",
       "realme         False\n",
       "rgl            False\n",
       "samsung         True\n",
       "sansui          True\n",
       "sanyo          False\n",
       "sharp          False\n",
       "sony            True\n",
       "svl            False\n",
       "t-series       False\n",
       "tcl             True\n",
       "thomson         True\n",
       "toshiba         True\n",
       "vu              True\n",
       "weston         False\n",
       "dtype: bool"
      ]
     },
     "execution_count": 14,
     "metadata": {},
     "output_type": "execute_result"
    }
   ],
   "source": [
    "data.groupby(\"Brand\").size()>5"
   ]
  },
  {
   "cell_type": "code",
   "execution_count": 15,
   "metadata": {},
   "outputs": [],
   "source": [
    "brands=[\"blaupunkt\",\"cloudwalker\",\"haier\",\"hisense\",\"kodak\",\"lg\",\"motorola\",\"mi\",\"micromax\",\"onida\",\"philips\",\n",
    "       \"panasonic\",\"samsung\",\"sony\",\"sansui\",\"tcl\",\"thomson\",\"vu\",\"iffalcon\"]"
   ]
  },
  {
   "cell_type": "code",
   "execution_count": 16,
   "metadata": {},
   "outputs": [],
   "source": [
    "data = data[data['Brand'].isin(brands)]"
   ]
  },
  {
   "cell_type": "code",
   "execution_count": 17,
   "metadata": {},
   "outputs": [
    {
     "data": {
      "text/plain": [
       "704"
      ]
     },
     "execution_count": 17,
     "metadata": {},
     "output_type": "execute_result"
    }
   ],
   "source": [
    "len(data)"
   ]
  },
  {
   "cell_type": "code",
   "execution_count": 18,
   "metadata": {},
   "outputs": [
    {
     "data": {
      "text/plain": [
       "array([20, 24, 10, 16, 30,  0, 40, 50, 39, 19, 48,  2, 12, 35,  8, 60, 98,\n",
       "       14,  6, 90])"
      ]
     },
     "execution_count": 18,
     "metadata": {},
     "output_type": "execute_result"
    }
   ],
   "source": [
    "dataset[\"Speaker\"].unique()"
   ]
  },
  {
   "cell_type": "code",
   "execution_count": 19,
   "metadata": {},
   "outputs": [
    {
     "data": {
      "text/plain": [
       "Speaker\n",
       "0      True\n",
       "2     False\n",
       "6     False\n",
       "8      True\n",
       "10     True\n",
       "12    False\n",
       "14    False\n",
       "16     True\n",
       "19    False\n",
       "20     True\n",
       "24     True\n",
       "30     True\n",
       "35     True\n",
       "40     True\n",
       "50     True\n",
       "60     True\n",
       "90    False\n",
       "98    False\n",
       "dtype: bool"
      ]
     },
     "execution_count": 19,
     "metadata": {},
     "output_type": "execute_result"
    }
   ],
   "source": [
    "data.groupby(\"Speaker\").size()>5"
   ]
  },
  {
   "cell_type": "code",
   "execution_count": 20,
   "metadata": {},
   "outputs": [],
   "source": [
    "speaker=[8,10,16,20,24,30,35,40,50,60]\n",
    "data = data[data['Speaker'].isin(speaker)]"
   ]
  },
  {
   "cell_type": "code",
   "execution_count": 21,
   "metadata": {},
   "outputs": [
    {
     "data": {
      "text/plain": [
       "671"
      ]
     },
     "execution_count": 21,
     "metadata": {},
     "output_type": "execute_result"
    }
   ],
   "source": [
    "len(data)"
   ]
  },
  {
   "cell_type": "code",
   "execution_count": 22,
   "metadata": {},
   "outputs": [
    {
     "data": {
      "text/plain": [
       "array([32, 43, 50, 40, 55, 24, 42, 58, 65, 49, 75, 39, 48, 85, 60,  5,  6,\n",
       "       37, 64, 29, 22, 28, 46, 51, 47])"
      ]
     },
     "execution_count": 22,
     "metadata": {},
     "output_type": "execute_result"
    }
   ],
   "source": [
    "dataset[\"Size\"].unique()"
   ]
  },
  {
   "cell_type": "code",
   "execution_count": 23,
   "metadata": {},
   "outputs": [
    {
     "data": {
      "text/plain": [
       "Size\n",
       "5     False\n",
       "6     False\n",
       "24     True\n",
       "28    False\n",
       "29    False\n",
       "32     True\n",
       "37    False\n",
       "39    False\n",
       "40     True\n",
       "42     True\n",
       "43     True\n",
       "46     True\n",
       "47    False\n",
       "48     True\n",
       "49     True\n",
       "50     True\n",
       "51    False\n",
       "55     True\n",
       "58     True\n",
       "60    False\n",
       "64    False\n",
       "65     True\n",
       "75     True\n",
       "85    False\n",
       "dtype: bool"
      ]
     },
     "execution_count": 23,
     "metadata": {},
     "output_type": "execute_result"
    }
   ],
   "source": [
    "data.groupby(\"Size\").size()>5"
   ]
  },
  {
   "cell_type": "code",
   "execution_count": 24,
   "metadata": {},
   "outputs": [],
   "source": [
    "size=[24,32,40,42,43,46,49,50,55,65]\n",
    "data = data[data['Size'].isin(size)]"
   ]
  },
  {
   "cell_type": "code",
   "execution_count": 25,
   "metadata": {},
   "outputs": [
    {
     "data": {
      "text/plain": [
       "626"
      ]
     },
     "execution_count": 25,
     "metadata": {},
     "output_type": "execute_result"
    }
   ],
   "source": [
    "len(data)"
   ]
  },
  {
   "cell_type": "code",
   "execution_count": 26,
   "metadata": {},
   "outputs": [
    {
     "data": {
      "text/html": [
       "<div>\n",
       "<style scoped>\n",
       "    .dataframe tbody tr th:only-of-type {\n",
       "        vertical-align: middle;\n",
       "    }\n",
       "\n",
       "    .dataframe tbody tr th {\n",
       "        vertical-align: top;\n",
       "    }\n",
       "\n",
       "    .dataframe thead th {\n",
       "        text-align: right;\n",
       "    }\n",
       "</style>\n",
       "<table border=\"1\" class=\"dataframe\">\n",
       "  <thead>\n",
       "    <tr style=\"text-align: right;\">\n",
       "      <th></th>\n",
       "      <th>Brand</th>\n",
       "      <th>Ratings</th>\n",
       "      <th>Speaker</th>\n",
       "      <th>Size</th>\n",
       "      <th>HD</th>\n",
       "      <th>HDMI</th>\n",
       "      <th>USB</th>\n",
       "      <th>Cost</th>\n",
       "      <th>Buy From</th>\n",
       "      <th>Img Url</th>\n",
       "    </tr>\n",
       "  </thead>\n",
       "  <tbody>\n",
       "    <tr>\n",
       "      <th>0</th>\n",
       "      <td>mi</td>\n",
       "      <td>4.4</td>\n",
       "      <td>20</td>\n",
       "      <td>32</td>\n",
       "      <td>HD</td>\n",
       "      <td>3</td>\n",
       "      <td>2</td>\n",
       "      <td>14499</td>\n",
       "      <td>https://www.flipkart.com/mi-4a-pro-80-cm-32-in...</td>\n",
       "      <td>https://rukminim1.flixcart.com/image/832/832/k...</td>\n",
       "    </tr>\n",
       "    <tr>\n",
       "      <th>1</th>\n",
       "      <td>mi</td>\n",
       "      <td>4.4</td>\n",
       "      <td>20</td>\n",
       "      <td>43</td>\n",
       "      <td>Ultra HD 4K</td>\n",
       "      <td>3</td>\n",
       "      <td>2</td>\n",
       "      <td>27999</td>\n",
       "      <td>https://www.flipkart.com/mi-4x-108-cm-43-inch-...</td>\n",
       "      <td>https://rukminim1.flixcart.com/image/832/832/k...</td>\n",
       "    </tr>\n",
       "    <tr>\n",
       "      <th>2</th>\n",
       "      <td>mi</td>\n",
       "      <td>4.4</td>\n",
       "      <td>20</td>\n",
       "      <td>50</td>\n",
       "      <td>Ultra HD 4K</td>\n",
       "      <td>3</td>\n",
       "      <td>2</td>\n",
       "      <td>33999</td>\n",
       "      <td>https://www.flipkart.com/mi-4x-125-7-cm-50-inc...</td>\n",
       "      <td>https://rukminim1.flixcart.com/image/832/832/k...</td>\n",
       "    </tr>\n",
       "    <tr>\n",
       "      <th>3</th>\n",
       "      <td>mi</td>\n",
       "      <td>4.1</td>\n",
       "      <td>20</td>\n",
       "      <td>32</td>\n",
       "      <td>HD</td>\n",
       "      <td>3</td>\n",
       "      <td>2</td>\n",
       "      <td>15499</td>\n",
       "      <td>https://www.flipkart.com/mi-4a-horizon-80-cm-3...</td>\n",
       "      <td>https://rukminim1.flixcart.com/image/832/832/k...</td>\n",
       "    </tr>\n",
       "    <tr>\n",
       "      <th>4</th>\n",
       "      <td>mi</td>\n",
       "      <td>4.4</td>\n",
       "      <td>20</td>\n",
       "      <td>40</td>\n",
       "      <td>Full HD</td>\n",
       "      <td>3</td>\n",
       "      <td>2</td>\n",
       "      <td>21999</td>\n",
       "      <td>https://www.flipkart.com/mi-4a-100-cm-40-inch-...</td>\n",
       "      <td>https://rukminim1.flixcart.com/image/832/832/k...</td>\n",
       "    </tr>\n",
       "    <tr>\n",
       "      <th>...</th>\n",
       "      <td>...</td>\n",
       "      <td>...</td>\n",
       "      <td>...</td>\n",
       "      <td>...</td>\n",
       "      <td>...</td>\n",
       "      <td>...</td>\n",
       "      <td>...</td>\n",
       "      <td>...</td>\n",
       "      <td>...</td>\n",
       "      <td>...</td>\n",
       "    </tr>\n",
       "    <tr>\n",
       "      <th>806</th>\n",
       "      <td>sony</td>\n",
       "      <td>4.8</td>\n",
       "      <td>20</td>\n",
       "      <td>46</td>\n",
       "      <td>Full HD</td>\n",
       "      <td>4</td>\n",
       "      <td>2</td>\n",
       "      <td>83900</td>\n",
       "      <td>https://www.flipkart.com/sony-bravia-46-inches...</td>\n",
       "      <td>https://rukminim1.flixcart.com/image/832/832/t...</td>\n",
       "    </tr>\n",
       "    <tr>\n",
       "      <th>807</th>\n",
       "      <td>vu</td>\n",
       "      <td>4.3</td>\n",
       "      <td>24</td>\n",
       "      <td>55</td>\n",
       "      <td>Ultra HD 4K</td>\n",
       "      <td>3</td>\n",
       "      <td>2</td>\n",
       "      <td>32200</td>\n",
       "      <td>https://www.flipkart.com/vu-pixelight-138-cm-5...</td>\n",
       "      <td>https://rukminim1.flixcart.com/image/832/832/k...</td>\n",
       "    </tr>\n",
       "    <tr>\n",
       "      <th>808</th>\n",
       "      <td>lg</td>\n",
       "      <td>4.9</td>\n",
       "      <td>20</td>\n",
       "      <td>42</td>\n",
       "      <td>Full HD</td>\n",
       "      <td>1</td>\n",
       "      <td>1</td>\n",
       "      <td>87000</td>\n",
       "      <td>https://www.flipkart.com/lg-42-inch-full-hd-le...</td>\n",
       "      <td>https://rukminim1.flixcart.com/image/832/832/t...</td>\n",
       "    </tr>\n",
       "    <tr>\n",
       "      <th>809</th>\n",
       "      <td>lg</td>\n",
       "      <td>4.6</td>\n",
       "      <td>20</td>\n",
       "      <td>42</td>\n",
       "      <td>Full HD</td>\n",
       "      <td>3</td>\n",
       "      <td>1</td>\n",
       "      <td>62990</td>\n",
       "      <td>https://www.flipkart.com/lg-42-inches-full-hd-...</td>\n",
       "      <td>https://rukminim1.flixcart.com/image/832/832/t...</td>\n",
       "    </tr>\n",
       "    <tr>\n",
       "      <th>812</th>\n",
       "      <td>samsung</td>\n",
       "      <td>4.4</td>\n",
       "      <td>20</td>\n",
       "      <td>32</td>\n",
       "      <td>Full HD</td>\n",
       "      <td>0</td>\n",
       "      <td>1</td>\n",
       "      <td>41900</td>\n",
       "      <td>https://www.flipkart.com/samsung-32-inch-full-...</td>\n",
       "      <td>https://rukminim1.flixcart.com/image/832/832/t...</td>\n",
       "    </tr>\n",
       "  </tbody>\n",
       "</table>\n",
       "<p>626 rows × 10 columns</p>\n",
       "</div>"
      ],
      "text/plain": [
       "       Brand  Ratings  Speaker  Size           HD  HDMI  USB   Cost  \\\n",
       "0         mi      4.4       20    32           HD     3    2  14499   \n",
       "1         mi      4.4       20    43  Ultra HD 4K     3    2  27999   \n",
       "2         mi      4.4       20    50  Ultra HD 4K     3    2  33999   \n",
       "3         mi      4.1       20    32           HD     3    2  15499   \n",
       "4         mi      4.4       20    40      Full HD     3    2  21999   \n",
       "..       ...      ...      ...   ...          ...   ...  ...    ...   \n",
       "806     sony      4.8       20    46      Full HD     4    2  83900   \n",
       "807       vu      4.3       24    55  Ultra HD 4K     3    2  32200   \n",
       "808       lg      4.9       20    42      Full HD     1    1  87000   \n",
       "809       lg      4.6       20    42      Full HD     3    1  62990   \n",
       "812  samsung      4.4       20    32      Full HD     0    1  41900   \n",
       "\n",
       "                                              Buy From  \\\n",
       "0    https://www.flipkart.com/mi-4a-pro-80-cm-32-in...   \n",
       "1    https://www.flipkart.com/mi-4x-108-cm-43-inch-...   \n",
       "2    https://www.flipkart.com/mi-4x-125-7-cm-50-inc...   \n",
       "3    https://www.flipkart.com/mi-4a-horizon-80-cm-3...   \n",
       "4    https://www.flipkart.com/mi-4a-100-cm-40-inch-...   \n",
       "..                                                 ...   \n",
       "806  https://www.flipkart.com/sony-bravia-46-inches...   \n",
       "807  https://www.flipkart.com/vu-pixelight-138-cm-5...   \n",
       "808  https://www.flipkart.com/lg-42-inch-full-hd-le...   \n",
       "809  https://www.flipkart.com/lg-42-inches-full-hd-...   \n",
       "812  https://www.flipkart.com/samsung-32-inch-full-...   \n",
       "\n",
       "                                               Img Url  \n",
       "0    https://rukminim1.flixcart.com/image/832/832/k...  \n",
       "1    https://rukminim1.flixcart.com/image/832/832/k...  \n",
       "2    https://rukminim1.flixcart.com/image/832/832/k...  \n",
       "3    https://rukminim1.flixcart.com/image/832/832/k...  \n",
       "4    https://rukminim1.flixcart.com/image/832/832/k...  \n",
       "..                                                 ...  \n",
       "806  https://rukminim1.flixcart.com/image/832/832/t...  \n",
       "807  https://rukminim1.flixcart.com/image/832/832/k...  \n",
       "808  https://rukminim1.flixcart.com/image/832/832/t...  \n",
       "809  https://rukminim1.flixcart.com/image/832/832/t...  \n",
       "812  https://rukminim1.flixcart.com/image/832/832/t...  \n",
       "\n",
       "[626 rows x 10 columns]"
      ]
     },
     "execution_count": 26,
     "metadata": {},
     "output_type": "execute_result"
    }
   ],
   "source": [
    "data"
   ]
  },
  {
   "cell_type": "code",
   "execution_count": 27,
   "metadata": {},
   "outputs": [
    {
     "data": {
      "text/plain": [
       "HD\n",
       "Full HD        True\n",
       "HD             True\n",
       "Ultra HD 4K    True\n",
       "dtype: bool"
      ]
     },
     "execution_count": 27,
     "metadata": {},
     "output_type": "execute_result"
    }
   ],
   "source": [
    "data.groupby(\"HD\").size()>20"
   ]
  },
  {
   "cell_type": "code",
   "execution_count": 28,
   "metadata": {},
   "outputs": [
    {
     "data": {
      "text/plain": [
       "array([4.4, 4.1, 4.3, 4.2, 4.5, 4.6, 5. , 4. , 4.8, 3.9, 3.6, 4.7, 3.8,\n",
       "       3.3, 4.9, 3.5, 1.8, 2.3, 2.8, 3.7, 3. , 3.4, 2.7, 3.2])"
      ]
     },
     "execution_count": 28,
     "metadata": {},
     "output_type": "execute_result"
    }
   ],
   "source": [
    "dataset[\"Ratings\"].unique()"
   ]
  },
  {
   "cell_type": "code",
   "execution_count": 29,
   "metadata": {},
   "outputs": [
    {
     "data": {
      "text/plain": [
       "Ratings\n",
       "1.8    False\n",
       "2.3    False\n",
       "2.7    False\n",
       "2.8    False\n",
       "3.0    False\n",
       "3.3    False\n",
       "3.4    False\n",
       "3.5    False\n",
       "3.6    False\n",
       "3.7    False\n",
       "3.8     True\n",
       "3.9     True\n",
       "4.0     True\n",
       "4.1     True\n",
       "4.2     True\n",
       "4.3     True\n",
       "4.4     True\n",
       "4.5     True\n",
       "4.6     True\n",
       "4.7     True\n",
       "4.8     True\n",
       "4.9    False\n",
       "5.0     True\n",
       "dtype: bool"
      ]
     },
     "execution_count": 29,
     "metadata": {},
     "output_type": "execute_result"
    }
   ],
   "source": [
    "data.groupby(\"Ratings\").size()>10"
   ]
  },
  {
   "cell_type": "code",
   "execution_count": 30,
   "metadata": {},
   "outputs": [],
   "source": [
    "data = data.drop(data['Ratings'][ data['Ratings'] <3.7 ].index)"
   ]
  },
  {
   "cell_type": "code",
   "execution_count": 31,
   "metadata": {},
   "outputs": [
    {
     "data": {
      "text/plain": [
       "604"
      ]
     },
     "execution_count": 31,
     "metadata": {},
     "output_type": "execute_result"
    }
   ],
   "source": [
    "len(data)"
   ]
  },
  {
   "cell_type": "code",
   "execution_count": 39,
   "metadata": {},
   "outputs": [
    {
     "data": {
      "text/html": [
       "<div>\n",
       "<style scoped>\n",
       "    .dataframe tbody tr th:only-of-type {\n",
       "        vertical-align: middle;\n",
       "    }\n",
       "\n",
       "    .dataframe tbody tr th {\n",
       "        vertical-align: top;\n",
       "    }\n",
       "\n",
       "    .dataframe thead th {\n",
       "        text-align: right;\n",
       "    }\n",
       "</style>\n",
       "<table border=\"1\" class=\"dataframe\">\n",
       "  <thead>\n",
       "    <tr style=\"text-align: right;\">\n",
       "      <th></th>\n",
       "      <th>Ratings</th>\n",
       "      <th>Speaker</th>\n",
       "      <th>Size</th>\n",
       "      <th>HDMI</th>\n",
       "      <th>USB</th>\n",
       "      <th>Cost</th>\n",
       "    </tr>\n",
       "  </thead>\n",
       "  <tbody>\n",
       "    <tr>\n",
       "      <th>count</th>\n",
       "      <td>544.000000</td>\n",
       "      <td>544.000000</td>\n",
       "      <td>544.000000</td>\n",
       "      <td>544.000000</td>\n",
       "      <td>544.000000</td>\n",
       "      <td>544.000000</td>\n",
       "    </tr>\n",
       "    <tr>\n",
       "      <th>mean</th>\n",
       "      <td>4.360478</td>\n",
       "      <td>21.924632</td>\n",
       "      <td>44.419118</td>\n",
       "      <td>2.564338</td>\n",
       "      <td>1.810662</td>\n",
       "      <td>45361.091912</td>\n",
       "    </tr>\n",
       "    <tr>\n",
       "      <th>std</th>\n",
       "      <td>0.244649</td>\n",
       "      <td>7.536518</td>\n",
       "      <td>9.759770</td>\n",
       "      <td>0.906035</td>\n",
       "      <td>0.565259</td>\n",
       "      <td>26301.602254</td>\n",
       "    </tr>\n",
       "    <tr>\n",
       "      <th>min</th>\n",
       "      <td>3.700000</td>\n",
       "      <td>8.000000</td>\n",
       "      <td>24.000000</td>\n",
       "      <td>0.000000</td>\n",
       "      <td>1.000000</td>\n",
       "      <td>5999.000000</td>\n",
       "    </tr>\n",
       "    <tr>\n",
       "      <th>25%</th>\n",
       "      <td>4.200000</td>\n",
       "      <td>20.000000</td>\n",
       "      <td>32.000000</td>\n",
       "      <td>2.000000</td>\n",
       "      <td>1.000000</td>\n",
       "      <td>24880.250000</td>\n",
       "    </tr>\n",
       "    <tr>\n",
       "      <th>50%</th>\n",
       "      <td>4.400000</td>\n",
       "      <td>20.000000</td>\n",
       "      <td>43.000000</td>\n",
       "      <td>3.000000</td>\n",
       "      <td>2.000000</td>\n",
       "      <td>38944.500000</td>\n",
       "    </tr>\n",
       "    <tr>\n",
       "      <th>75%</th>\n",
       "      <td>4.500000</td>\n",
       "      <td>24.000000</td>\n",
       "      <td>50.000000</td>\n",
       "      <td>3.000000</td>\n",
       "      <td>2.000000</td>\n",
       "      <td>62900.000000</td>\n",
       "    </tr>\n",
       "    <tr>\n",
       "      <th>max</th>\n",
       "      <td>5.000000</td>\n",
       "      <td>60.000000</td>\n",
       "      <td>65.000000</td>\n",
       "      <td>4.000000</td>\n",
       "      <td>3.000000</td>\n",
       "      <td>119999.000000</td>\n",
       "    </tr>\n",
       "  </tbody>\n",
       "</table>\n",
       "</div>"
      ],
      "text/plain": [
       "          Ratings     Speaker        Size        HDMI         USB  \\\n",
       "count  544.000000  544.000000  544.000000  544.000000  544.000000   \n",
       "mean     4.360478   21.924632   44.419118    2.564338    1.810662   \n",
       "std      0.244649    7.536518    9.759770    0.906035    0.565259   \n",
       "min      3.700000    8.000000   24.000000    0.000000    1.000000   \n",
       "25%      4.200000   20.000000   32.000000    2.000000    1.000000   \n",
       "50%      4.400000   20.000000   43.000000    3.000000    2.000000   \n",
       "75%      4.500000   24.000000   50.000000    3.000000    2.000000   \n",
       "max      5.000000   60.000000   65.000000    4.000000    3.000000   \n",
       "\n",
       "                Cost  \n",
       "count     544.000000  \n",
       "mean    45361.091912  \n",
       "std     26301.602254  \n",
       "min      5999.000000  \n",
       "25%     24880.250000  \n",
       "50%     38944.500000  \n",
       "75%     62900.000000  \n",
       "max    119999.000000  "
      ]
     },
     "execution_count": 39,
     "metadata": {},
     "output_type": "execute_result"
    }
   ],
   "source": [
    "data = data.drop(data['Cost'][ data['Cost'] >120000 ].index)\n",
    "data.describe()"
   ]
  },
  {
   "cell_type": "code",
   "execution_count": 40,
   "metadata": {},
   "outputs": [],
   "source": [
    "data.to_csv(os.path.join('..', 'data', 'TV-2_processed.csv'),index=False)"
   ]
  },
  {
   "cell_type": "code",
   "execution_count": null,
   "metadata": {},
   "outputs": [],
   "source": []
  }
 ],
 "metadata": {
  "kernelspec": {
   "display_name": "Python 3",
   "language": "python",
   "name": "python3"
  },
  "language_info": {
   "codemirror_mode": {
    "name": "ipython",
    "version": 3
   },
   "file_extension": ".py",
   "mimetype": "text/x-python",
   "name": "python",
   "nbconvert_exporter": "python",
   "pygments_lexer": "ipython3",
   "version": "3.9.1"
  }
 },
 "nbformat": 4,
 "nbformat_minor": 4
}
